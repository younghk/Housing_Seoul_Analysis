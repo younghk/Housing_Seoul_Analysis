{
 "cells": [
  {
   "cell_type": "code",
   "execution_count": 1,
   "metadata": {
    "ExecuteTime": {
     "end_time": "2019-06-11T08:40:25.181767Z",
     "start_time": "2019-06-11T08:40:22.880272Z"
    }
   },
   "outputs": [
    {
     "name": "stderr",
     "output_type": "stream",
     "text": [
      "Using TensorFlow backend.\n"
     ]
    }
   ],
   "source": [
    "import keras\n",
    "import numpy as np\n",
    "import matplotlib.pyplot as plt\n",
    "import pandas as pd\n",
    "import argparse\n",
    "from sklearn.preprocessing import minmax_scale\n",
    "from sklearn.model_selection import ShuffleSplit\n",
    "from sklearn.metrics import mean_squared_error\n",
    "from keras.models import Model, Sequential\n",
    "from keras.layers import *\n",
    "from keras.optimizers import Adam\n",
    "from keras.optimizers import SGD\n",
    "from keras.layers.advanced_activations import LeakyReLU\n",
    "from keras.utils import to_categorical"
   ]
  },
  {
   "cell_type": "code",
   "execution_count": 2,
   "metadata": {
    "ExecuteTime": {
     "end_time": "2019-06-11T08:40:25.980652Z",
     "start_time": "2019-06-11T08:40:25.978082Z"
    }
   },
   "outputs": [],
   "source": [
    "from sklearn.model_selection import train_test_split"
   ]
  },
  {
   "cell_type": "code",
   "execution_count": 3,
   "metadata": {
    "ExecuteTime": {
     "end_time": "2019-06-11T08:40:26.193761Z",
     "start_time": "2019-06-11T08:40:26.190249Z"
    }
   },
   "outputs": [],
   "source": [
    "model_input=[0,1,2,4,5,6,7,8,9,10,11,12,13,14,15,16,17,18,19]\n",
    "model_output=[3]\n",
    "train_data='seoul_housing_integrated.csv'"
   ]
  },
  {
   "cell_type": "code",
   "execution_count": 4,
   "metadata": {
    "ExecuteTime": {
     "end_time": "2019-06-11T08:40:30.255489Z",
     "start_time": "2019-06-11T08:40:29.760329Z"
    }
   },
   "outputs": [],
   "source": [
    "train_dataX = pd.read_csv(train_data, usecols = model_input)\n",
    "train_dataY = pd.read_csv('temp.csv')"
   ]
  },
  {
   "cell_type": "code",
   "execution_count": 6,
   "metadata": {
    "ExecuteTime": {
     "end_time": "2019-06-11T05:36:33.392743Z",
     "start_time": "2019-06-11T05:36:33.371043Z"
    },
    "scrolled": true
   },
   "outputs": [
    {
     "data": {
      "text/html": [
       "<div>\n",
       "<style scoped>\n",
       "    .dataframe tbody tr th:only-of-type {\n",
       "        vertical-align: middle;\n",
       "    }\n",
       "\n",
       "    .dataframe tbody tr th {\n",
       "        vertical-align: top;\n",
       "    }\n",
       "\n",
       "    .dataframe thead th {\n",
       "        text-align: right;\n",
       "    }\n",
       "</style>\n",
       "<table border=\"1\" class=\"dataframe\">\n",
       "  <thead>\n",
       "    <tr style=\"text-align: right;\">\n",
       "      <th></th>\n",
       "      <th>법정동코드</th>\n",
       "      <th>전용면적(㎡)</th>\n",
       "      <th>계약년월</th>\n",
       "      <th>층</th>\n",
       "      <th>건축년도</th>\n",
       "      <th>랜드마크</th>\n",
       "      <th>영화관</th>\n",
       "      <th>쇼핑센터</th>\n",
       "      <th>대형마트</th>\n",
       "      <th>백화점</th>\n",
       "      <th>지하철</th>\n",
       "      <th>차선수</th>\n",
       "      <th>순환도로</th>\n",
       "      <th>한강</th>\n",
       "      <th>공원</th>\n",
       "      <th>산</th>\n",
       "      <th>학교</th>\n",
       "      <th>교육특구</th>\n",
       "      <th>대학병원</th>\n",
       "    </tr>\n",
       "  </thead>\n",
       "  <tbody>\n",
       "    <tr>\n",
       "      <th>0</th>\n",
       "      <td>1117010100</td>\n",
       "      <td>83.04</td>\n",
       "      <td>201405</td>\n",
       "      <td>4</td>\n",
       "      <td>2012</td>\n",
       "      <td>2.0</td>\n",
       "      <td>0.0</td>\n",
       "      <td>0.0</td>\n",
       "      <td>0.0</td>\n",
       "      <td>0.0</td>\n",
       "      <td>2.0</td>\n",
       "      <td>4.0</td>\n",
       "      <td>0.0</td>\n",
       "      <td>0.0</td>\n",
       "      <td>1.0</td>\n",
       "      <td>1.0</td>\n",
       "      <td>3.0</td>\n",
       "      <td>0.0</td>\n",
       "      <td>0.0</td>\n",
       "    </tr>\n",
       "    <tr>\n",
       "      <th>1</th>\n",
       "      <td>1117010100</td>\n",
       "      <td>40.99</td>\n",
       "      <td>201411</td>\n",
       "      <td>1</td>\n",
       "      <td>1973</td>\n",
       "      <td>2.0</td>\n",
       "      <td>0.0</td>\n",
       "      <td>0.0</td>\n",
       "      <td>0.0</td>\n",
       "      <td>0.0</td>\n",
       "      <td>2.0</td>\n",
       "      <td>4.0</td>\n",
       "      <td>0.0</td>\n",
       "      <td>0.0</td>\n",
       "      <td>1.0</td>\n",
       "      <td>1.0</td>\n",
       "      <td>3.0</td>\n",
       "      <td>0.0</td>\n",
       "      <td>0.0</td>\n",
       "    </tr>\n",
       "    <tr>\n",
       "      <th>2</th>\n",
       "      <td>1117010100</td>\n",
       "      <td>68.61</td>\n",
       "      <td>201407</td>\n",
       "      <td>5</td>\n",
       "      <td>2006</td>\n",
       "      <td>2.0</td>\n",
       "      <td>0.0</td>\n",
       "      <td>0.0</td>\n",
       "      <td>0.0</td>\n",
       "      <td>0.0</td>\n",
       "      <td>2.0</td>\n",
       "      <td>4.0</td>\n",
       "      <td>0.0</td>\n",
       "      <td>0.0</td>\n",
       "      <td>1.0</td>\n",
       "      <td>1.0</td>\n",
       "      <td>3.0</td>\n",
       "      <td>0.0</td>\n",
       "      <td>0.0</td>\n",
       "    </tr>\n",
       "    <tr>\n",
       "      <th>3</th>\n",
       "      <td>1117010100</td>\n",
       "      <td>76.27</td>\n",
       "      <td>201501</td>\n",
       "      <td>5</td>\n",
       "      <td>2006</td>\n",
       "      <td>2.0</td>\n",
       "      <td>0.0</td>\n",
       "      <td>0.0</td>\n",
       "      <td>0.0</td>\n",
       "      <td>0.0</td>\n",
       "      <td>2.0</td>\n",
       "      <td>4.0</td>\n",
       "      <td>0.0</td>\n",
       "      <td>0.0</td>\n",
       "      <td>1.0</td>\n",
       "      <td>1.0</td>\n",
       "      <td>3.0</td>\n",
       "      <td>0.0</td>\n",
       "      <td>0.0</td>\n",
       "    </tr>\n",
       "    <tr>\n",
       "      <th>4</th>\n",
       "      <td>1117010100</td>\n",
       "      <td>76.27</td>\n",
       "      <td>201503</td>\n",
       "      <td>1</td>\n",
       "      <td>2006</td>\n",
       "      <td>2.0</td>\n",
       "      <td>0.0</td>\n",
       "      <td>0.0</td>\n",
       "      <td>0.0</td>\n",
       "      <td>0.0</td>\n",
       "      <td>2.0</td>\n",
       "      <td>4.0</td>\n",
       "      <td>0.0</td>\n",
       "      <td>0.0</td>\n",
       "      <td>1.0</td>\n",
       "      <td>1.0</td>\n",
       "      <td>3.0</td>\n",
       "      <td>0.0</td>\n",
       "      <td>0.0</td>\n",
       "    </tr>\n",
       "  </tbody>\n",
       "</table>\n",
       "</div>"
      ],
      "text/plain": [
       "        법정동코드  전용면적(㎡)    계약년월  층  건축년도  랜드마크  영화관  쇼핑센터  대형마트  백화점  지하철  차선수  \\\n",
       "0  1117010100    83.04  201405  4  2012   2.0  0.0   0.0   0.0  0.0  2.0  4.0   \n",
       "1  1117010100    40.99  201411  1  1973   2.0  0.0   0.0   0.0  0.0  2.0  4.0   \n",
       "2  1117010100    68.61  201407  5  2006   2.0  0.0   0.0   0.0  0.0  2.0  4.0   \n",
       "3  1117010100    76.27  201501  5  2006   2.0  0.0   0.0   0.0  0.0  2.0  4.0   \n",
       "4  1117010100    76.27  201503  1  2006   2.0  0.0   0.0   0.0  0.0  2.0  4.0   \n",
       "\n",
       "   순환도로   한강   공원    산   학교  교육특구  대학병원  \n",
       "0   0.0  0.0  1.0  1.0  3.0   0.0   0.0  \n",
       "1   0.0  0.0  1.0  1.0  3.0   0.0   0.0  \n",
       "2   0.0  0.0  1.0  1.0  3.0   0.0   0.0  \n",
       "3   0.0  0.0  1.0  1.0  3.0   0.0   0.0  \n",
       "4   0.0  0.0  1.0  1.0  3.0   0.0   0.0  "
      ]
     },
     "execution_count": 6,
     "metadata": {},
     "output_type": "execute_result"
    }
   ],
   "source": [
    "train_dataX.head(5)\n"
   ]
  },
  {
   "cell_type": "code",
   "execution_count": 5,
   "metadata": {
    "ExecuteTime": {
     "end_time": "2019-06-11T08:40:32.138125Z",
     "start_time": "2019-06-11T08:40:32.130060Z"
    }
   },
   "outputs": [],
   "source": [
    "code_list = train_dataX['법정동코드']\n",
    "code_list = code_list.drop_duplicates()\n",
    "code = {}\n",
    "cnt = 0 \n",
    "for co in code_list:\n",
    "    code[co]=cnt\n",
    "    cnt = cnt + 1\n",
    "    \n",
    "X = train_dataX"
   ]
  },
  {
   "cell_type": "code",
   "execution_count": 6,
   "metadata": {
    "ExecuteTime": {
     "end_time": "2019-06-11T08:40:32.335785Z",
     "start_time": "2019-06-11T08:40:32.325150Z"
    }
   },
   "outputs": [],
   "source": [
    "X['나이'] = X['계약년월']/100 - X['건축년도']\n",
    "X['나이'] = X['나이'].astype(int)"
   ]
  },
  {
   "cell_type": "code",
   "execution_count": 7,
   "metadata": {
    "ExecuteTime": {
     "end_time": "2019-06-11T08:40:32.550178Z",
     "start_time": "2019-06-11T08:40:32.512677Z"
    }
   },
   "outputs": [],
   "source": [
    "X = X.drop(columns=['계약년월', '건축년도'], axis=1)"
   ]
  },
  {
   "cell_type": "code",
   "execution_count": 8,
   "metadata": {
    "ExecuteTime": {
     "end_time": "2019-06-11T08:40:35.878583Z",
     "start_time": "2019-06-11T08:40:34.083000Z"
    }
   },
   "outputs": [],
   "source": [
    "idx = 0\n",
    "for c in X['법정동코드']:\n",
    "    try :\n",
    "        #print(c)\n",
    "        X.at[idx, '법정동코드'] = code[c]\n",
    "        #print(code[c])\n",
    "        idx = idx + 1\n",
    "    except :\n",
    "        continue"
   ]
  },
  {
   "cell_type": "code",
   "execution_count": 9,
   "metadata": {
    "ExecuteTime": {
     "end_time": "2019-06-11T08:40:40.695302Z",
     "start_time": "2019-06-11T08:40:40.676687Z"
    },
    "scrolled": true
   },
   "outputs": [
    {
     "data": {
      "text/html": [
       "<div>\n",
       "<style scoped>\n",
       "    .dataframe tbody tr th:only-of-type {\n",
       "        vertical-align: middle;\n",
       "    }\n",
       "\n",
       "    .dataframe tbody tr th {\n",
       "        vertical-align: top;\n",
       "    }\n",
       "\n",
       "    .dataframe thead th {\n",
       "        text-align: right;\n",
       "    }\n",
       "</style>\n",
       "<table border=\"1\" class=\"dataframe\">\n",
       "  <thead>\n",
       "    <tr style=\"text-align: right;\">\n",
       "      <th></th>\n",
       "      <th>법정동코드</th>\n",
       "      <th>전용면적(㎡)</th>\n",
       "      <th>층</th>\n",
       "      <th>랜드마크</th>\n",
       "      <th>영화관</th>\n",
       "      <th>쇼핑센터</th>\n",
       "      <th>대형마트</th>\n",
       "      <th>백화점</th>\n",
       "      <th>지하철</th>\n",
       "      <th>차선수</th>\n",
       "      <th>순환도로</th>\n",
       "      <th>한강</th>\n",
       "      <th>공원</th>\n",
       "      <th>산</th>\n",
       "      <th>학교</th>\n",
       "      <th>교육특구</th>\n",
       "      <th>대학병원</th>\n",
       "      <th>나이</th>\n",
       "    </tr>\n",
       "  </thead>\n",
       "  <tbody>\n",
       "    <tr>\n",
       "      <th>0</th>\n",
       "      <td>0</td>\n",
       "      <td>83.04</td>\n",
       "      <td>4</td>\n",
       "      <td>2.0</td>\n",
       "      <td>0.0</td>\n",
       "      <td>0.0</td>\n",
       "      <td>0.0</td>\n",
       "      <td>0.0</td>\n",
       "      <td>2.0</td>\n",
       "      <td>4.0</td>\n",
       "      <td>0.0</td>\n",
       "      <td>0.0</td>\n",
       "      <td>1.0</td>\n",
       "      <td>1.0</td>\n",
       "      <td>3.0</td>\n",
       "      <td>0.0</td>\n",
       "      <td>0.0</td>\n",
       "      <td>2</td>\n",
       "    </tr>\n",
       "  </tbody>\n",
       "</table>\n",
       "</div>"
      ],
      "text/plain": [
       "   법정동코드  전용면적(㎡)  층  랜드마크  영화관  쇼핑센터  대형마트  백화점  지하철  차선수  순환도로   한강   공원  \\\n",
       "0      0    83.04  4   2.0  0.0   0.0   0.0  0.0  2.0  4.0   0.0  0.0  1.0   \n",
       "\n",
       "     산   학교  교육특구  대학병원  나이  \n",
       "0  1.0  3.0   0.0   0.0   2  "
      ]
     },
     "execution_count": 9,
     "metadata": {},
     "output_type": "execute_result"
    }
   ],
   "source": [
    "X.head(1)"
   ]
  },
  {
   "cell_type": "code",
   "execution_count": 10,
   "metadata": {
    "ExecuteTime": {
     "end_time": "2019-06-11T08:40:44.538392Z",
     "start_time": "2019-06-11T08:40:44.533496Z"
    }
   },
   "outputs": [
    {
     "data": {
      "text/plain": [
       "0    45700\n",
       "1    16000\n",
       "2    42000\n",
       "3    49800\n",
       "4    50000\n",
       "Name: price, dtype: int64"
      ]
     },
     "execution_count": 10,
     "metadata": {},
     "output_type": "execute_result"
    }
   ],
   "source": [
    "train_dataY['price'].head(5)"
   ]
  },
  {
   "cell_type": "code",
   "execution_count": 11,
   "metadata": {
    "ExecuteTime": {
     "end_time": "2019-06-11T08:40:44.712163Z",
     "start_time": "2019-06-11T08:40:44.707638Z"
    }
   },
   "outputs": [],
   "source": [
    "Y = train_dataY['price']\n",
    "Y = Y/1000\n",
    "Y = Y.astype(int)"
   ]
  },
  {
   "cell_type": "code",
   "execution_count": 12,
   "metadata": {
    "ExecuteTime": {
     "end_time": "2019-06-11T08:40:45.677383Z",
     "start_time": "2019-06-11T08:40:45.653544Z"
    }
   },
   "outputs": [],
   "source": [
    "XX = X.drop(columns=['법정동코드'])"
   ]
  },
  {
   "cell_type": "code",
   "execution_count": 13,
   "metadata": {
    "ExecuteTime": {
     "end_time": "2019-06-11T08:40:45.885826Z",
     "start_time": "2019-06-11T08:40:45.833038Z"
    }
   },
   "outputs": [],
   "source": [
    "X_train, X_test , y_train, y_test = train_test_split(XX, Y, test_size = 0.2, random_state=123456)"
   ]
  },
  {
   "cell_type": "code",
   "execution_count": 14,
   "metadata": {
    "ExecuteTime": {
     "end_time": "2019-06-11T08:40:46.193737Z",
     "start_time": "2019-06-11T08:40:46.110323Z"
    }
   },
   "outputs": [
    {
     "name": "stdout",
     "output_type": "stream",
     "text": [
      "WARNING:tensorflow:From /usr/local/lib/python3.7/site-packages/tensorflow/python/framework/op_def_library.py:263: colocate_with (from tensorflow.python.framework.ops) is deprecated and will be removed in a future version.\n",
      "Instructions for updating:\n",
      "Colocations handled automatically by placer.\n"
     ]
    }
   ],
   "source": [
    "np.random.seed(123456)\n",
    "\n",
    "model = Sequential()\n",
    "\n",
    "model.add(Dense(40, input_dim = X_train.shape[1], activation = 'relu'))\n",
    "model.add(Dense(10, activation = 'relu'))\n",
    "model.add(Dense(1, activation = 'linear'))\n",
    "\n",
    "model.compile(loss='mean_absolute_error', optimizer='adam')"
   ]
  },
  {
   "cell_type": "code",
   "execution_count": 48,
   "metadata": {
    "ExecuteTime": {
     "end_time": "2019-06-11T05:56:14.243442Z",
     "start_time": "2019-06-11T05:55:51.680581Z"
    },
    "scrolled": true
   },
   "outputs": [
    {
     "name": "stdout",
     "output_type": "stream",
     "text": [
      "Epoch 1/300\n",
      "219070/219070 [==============================] - 0s 1us/step - loss: 11.0921\n",
      "Epoch 2/300\n",
      "219070/219070 [==============================] - 0s 1us/step - loss: 11.0683\n",
      "Epoch 3/300\n",
      "219070/219070 [==============================] - 0s 1us/step - loss: 11.0764\n",
      "Epoch 4/300\n",
      "219070/219070 [==============================] - 0s 1us/step - loss: 11.0726\n",
      "Epoch 5/300\n",
      "219070/219070 [==============================] - 0s 1us/step - loss: 11.1081\n",
      "Epoch 6/300\n",
      "219070/219070 [==============================] - 0s 1us/step - loss: 11.1073\n",
      "Epoch 7/300\n",
      "219070/219070 [==============================] - 0s 1us/step - loss: 11.0715\n",
      "Epoch 8/300\n",
      "219070/219070 [==============================] - 0s 1us/step - loss: 11.0428\n",
      "Epoch 9/300\n",
      "219070/219070 [==============================] - 0s 1us/step - loss: 11.0481\n",
      "Epoch 10/300\n",
      "219070/219070 [==============================] - 0s 1us/step - loss: 11.0725\n",
      "Epoch 11/300\n",
      "219070/219070 [==============================] - 0s 1us/step - loss: 11.0753\n",
      "Epoch 12/300\n",
      "219070/219070 [==============================] - 0s 1us/step - loss: 11.0522\n",
      "Epoch 13/300\n",
      "219070/219070 [==============================] - 0s 1us/step - loss: 11.0389\n",
      "Epoch 14/300\n",
      "219070/219070 [==============================] - 0s 1us/step - loss: 11.0359\n",
      "Epoch 15/300\n",
      "219070/219070 [==============================] - 0s 1us/step - loss: 11.0649\n",
      "Epoch 16/300\n",
      "219070/219070 [==============================] - 0s 1us/step - loss: 11.0384\n",
      "Epoch 17/300\n",
      "219070/219070 [==============================] - 0s 1us/step - loss: 11.0524\n",
      "Epoch 18/300\n",
      "219070/219070 [==============================] - 0s 1us/step - loss: 11.0445\n",
      "Epoch 19/300\n",
      "219070/219070 [==============================] - 0s 1us/step - loss: 11.0705\n",
      "Epoch 20/300\n",
      "219070/219070 [==============================] - 0s 1us/step - loss: 11.0664\n",
      "Epoch 21/300\n",
      "219070/219070 [==============================] - 0s 1us/step - loss: 11.0355\n",
      "Epoch 22/300\n",
      "219070/219070 [==============================] - 0s 1us/step - loss: 11.0713\n",
      "Epoch 23/300\n",
      "219070/219070 [==============================] - 0s 1us/step - loss: 11.0128\n",
      "Epoch 24/300\n",
      "219070/219070 [==============================] - 0s 1us/step - loss: 11.0326\n",
      "Epoch 25/300\n",
      "219070/219070 [==============================] - 0s 1us/step - loss: 11.0305\n",
      "Epoch 26/300\n",
      "219070/219070 [==============================] - 0s 1us/step - loss: 11.0570\n",
      "Epoch 27/300\n",
      "219070/219070 [==============================] - 0s 1us/step - loss: 11.0199\n",
      "Epoch 28/300\n",
      "219070/219070 [==============================] - 0s 1us/step - loss: 11.0459\n",
      "Epoch 29/300\n",
      "219070/219070 [==============================] - 0s 1us/step - loss: 11.0342\n",
      "Epoch 30/300\n",
      "219070/219070 [==============================] - 0s 1us/step - loss: 11.0338\n",
      "Epoch 31/300\n",
      "219070/219070 [==============================] - 0s 1us/step - loss: 11.0470\n",
      "Epoch 32/300\n",
      "219070/219070 [==============================] - 0s 1us/step - loss: 11.0172\n",
      "Epoch 33/300\n",
      "219070/219070 [==============================] - 0s 1us/step - loss: 11.0387\n",
      "Epoch 34/300\n",
      "219070/219070 [==============================] - 0s 1us/step - loss: 11.0302\n",
      "Epoch 35/300\n",
      "219070/219070 [==============================] - 0s 1us/step - loss: 11.0157\n",
      "Epoch 36/300\n",
      "219070/219070 [==============================] - 0s 1us/step - loss: 11.0254\n",
      "Epoch 37/300\n",
      "219070/219070 [==============================] - 0s 1us/step - loss: 11.0153\n",
      "Epoch 38/300\n",
      "219070/219070 [==============================] - 0s 1us/step - loss: 11.0412\n",
      "Epoch 39/300\n",
      "219070/219070 [==============================] - 0s 1us/step - loss: 11.0310\n",
      "Epoch 40/300\n",
      "219070/219070 [==============================] - 0s 1us/step - loss: 11.0161\n",
      "Epoch 41/300\n",
      "219070/219070 [==============================] - 0s 1us/step - loss: 11.0036\n",
      "Epoch 42/300\n",
      "219070/219070 [==============================] - 0s 1us/step - loss: 11.0014\n",
      "Epoch 43/300\n",
      "219070/219070 [==============================] - 0s 1us/step - loss: 11.0093\n",
      "Epoch 44/300\n",
      "219070/219070 [==============================] - 0s 1us/step - loss: 11.0134\n",
      "Epoch 45/300\n",
      "219070/219070 [==============================] - 0s 1us/step - loss: 11.0161\n",
      "Epoch 46/300\n",
      "219070/219070 [==============================] - 0s 1us/step - loss: 11.0753\n",
      "Epoch 47/300\n",
      "219070/219070 [==============================] - 0s 1us/step - loss: 11.0226\n",
      "Epoch 48/300\n",
      "219070/219070 [==============================] - 0s 1us/step - loss: 10.9896\n",
      "Epoch 49/300\n",
      "219070/219070 [==============================] - 0s 1us/step - loss: 10.9753\n",
      "Epoch 50/300\n",
      "219070/219070 [==============================] - 0s 1us/step - loss: 11.0335\n",
      "Epoch 51/300\n",
      "219070/219070 [==============================] - 0s 1us/step - loss: 11.0094\n",
      "Epoch 52/300\n",
      "219070/219070 [==============================] - 0s 1us/step - loss: 11.0083\n",
      "Epoch 53/300\n",
      "219070/219070 [==============================] - 0s 1us/step - loss: 10.9807\n",
      "Epoch 54/300\n",
      "219070/219070 [==============================] - 0s 1us/step - loss: 11.0039\n",
      "Epoch 55/300\n",
      "219070/219070 [==============================] - 0s 1us/step - loss: 10.9966\n",
      "Epoch 56/300\n",
      "219070/219070 [==============================] - 0s 1us/step - loss: 10.9966\n",
      "Epoch 57/300\n",
      "219070/219070 [==============================] - 0s 1us/step - loss: 11.0124\n",
      "Epoch 58/300\n",
      "219070/219070 [==============================] - 0s 1us/step - loss: 11.0107\n",
      "Epoch 59/300\n",
      "219070/219070 [==============================] - 0s 1us/step - loss: 10.9771\n",
      "Epoch 60/300\n",
      "219070/219070 [==============================] - 0s 1us/step - loss: 11.0402\n",
      "Epoch 61/300\n",
      "219070/219070 [==============================] - 0s 1us/step - loss: 10.9749\n",
      "Epoch 62/300\n",
      "219070/219070 [==============================] - 0s 1us/step - loss: 10.9590\n",
      "Epoch 63/300\n",
      "219070/219070 [==============================] - 0s 1us/step - loss: 11.0015\n",
      "Epoch 64/300\n",
      "219070/219070 [==============================] - 0s 1us/step - loss: 10.9828\n",
      "Epoch 65/300\n",
      "219070/219070 [==============================] - 0s 1us/step - loss: 10.9902\n",
      "Epoch 66/300\n",
      "219070/219070 [==============================] - 0s 1us/step - loss: 11.0228\n",
      "Epoch 67/300\n",
      "219070/219070 [==============================] - 0s 1us/step - loss: 10.9739\n",
      "Epoch 68/300\n",
      "219070/219070 [==============================] - 0s 1us/step - loss: 10.9999\n",
      "Epoch 69/300\n",
      "219070/219070 [==============================] - 0s 1us/step - loss: 10.9582\n",
      "Epoch 70/300\n",
      "219070/219070 [==============================] - 0s 1us/step - loss: 10.9741\n",
      "Epoch 71/300\n",
      "219070/219070 [==============================] - 0s 1us/step - loss: 10.9613\n",
      "Epoch 72/300\n",
      "219070/219070 [==============================] - 0s 1us/step - loss: 10.9686\n",
      "Epoch 73/300\n",
      "219070/219070 [==============================] - 0s 1us/step - loss: 10.9750\n",
      "Epoch 74/300\n",
      "219070/219070 [==============================] - 0s 1us/step - loss: 10.9682\n",
      "Epoch 75/300\n",
      "219070/219070 [==============================] - 0s 1us/step - loss: 10.9646\n",
      "Epoch 76/300\n",
      "219070/219070 [==============================] - 0s 1us/step - loss: 10.9706\n",
      "Epoch 77/300\n",
      "219070/219070 [==============================] - 0s 1us/step - loss: 10.9773\n",
      "Epoch 78/300\n",
      "219070/219070 [==============================] - 0s 1us/step - loss: 10.9646\n",
      "Epoch 79/300\n",
      "  2048/219070 [..............................] - ETA: 0s - loss: 11.8466"
     ]
    },
    {
     "ename": "KeyboardInterrupt",
     "evalue": "",
     "output_type": "error",
     "traceback": [
      "\u001b[0;31m---------------------------------------------------------------------------\u001b[0m",
      "\u001b[0;31mKeyboardInterrupt\u001b[0m                         Traceback (most recent call last)",
      "\u001b[0;32m<ipython-input-48-eb7d66c1d479>\u001b[0m in \u001b[0;36m<module>\u001b[0;34m\u001b[0m\n\u001b[0;32m----> 1\u001b[0;31m \u001b[0mmodel\u001b[0m\u001b[0;34m.\u001b[0m\u001b[0mfit\u001b[0m\u001b[0;34m(\u001b[0m\u001b[0mX_train\u001b[0m\u001b[0;34m,\u001b[0m \u001b[0my_train\u001b[0m\u001b[0;34m,\u001b[0m \u001b[0mbatch_size\u001b[0m\u001b[0;34m=\u001b[0m\u001b[0;36m2048\u001b[0m\u001b[0;34m,\u001b[0m \u001b[0mepochs\u001b[0m\u001b[0;34m=\u001b[0m\u001b[0;36m300\u001b[0m\u001b[0;34m,\u001b[0m \u001b[0mverbose\u001b[0m\u001b[0;34m=\u001b[0m\u001b[0;36m1\u001b[0m\u001b[0;34m)\u001b[0m\u001b[0;34m\u001b[0m\u001b[0;34m\u001b[0m\u001b[0m\n\u001b[0m",
      "\u001b[0;32m/usr/local/lib/python3.7/site-packages/keras/engine/training.py\u001b[0m in \u001b[0;36mfit\u001b[0;34m(self, x, y, batch_size, epochs, verbose, callbacks, validation_split, validation_data, shuffle, class_weight, sample_weight, initial_epoch, steps_per_epoch, validation_steps, **kwargs)\u001b[0m\n\u001b[1;32m   1037\u001b[0m                                         \u001b[0minitial_epoch\u001b[0m\u001b[0;34m=\u001b[0m\u001b[0minitial_epoch\u001b[0m\u001b[0;34m,\u001b[0m\u001b[0;34m\u001b[0m\u001b[0;34m\u001b[0m\u001b[0m\n\u001b[1;32m   1038\u001b[0m                                         \u001b[0msteps_per_epoch\u001b[0m\u001b[0;34m=\u001b[0m\u001b[0msteps_per_epoch\u001b[0m\u001b[0;34m,\u001b[0m\u001b[0;34m\u001b[0m\u001b[0;34m\u001b[0m\u001b[0m\n\u001b[0;32m-> 1039\u001b[0;31m                                         validation_steps=validation_steps)\n\u001b[0m\u001b[1;32m   1040\u001b[0m \u001b[0;34m\u001b[0m\u001b[0m\n\u001b[1;32m   1041\u001b[0m     def evaluate(self, x=None, y=None,\n",
      "\u001b[0;32m/usr/local/lib/python3.7/site-packages/keras/engine/training_arrays.py\u001b[0m in \u001b[0;36mfit_loop\u001b[0;34m(model, f, ins, out_labels, batch_size, epochs, verbose, callbacks, val_f, val_ins, shuffle, callback_metrics, initial_epoch, steps_per_epoch, validation_steps)\u001b[0m\n\u001b[1;32m    193\u001b[0m                 \u001b[0mbatch_logs\u001b[0m\u001b[0;34m[\u001b[0m\u001b[0;34m'batch'\u001b[0m\u001b[0;34m]\u001b[0m \u001b[0;34m=\u001b[0m \u001b[0mbatch_index\u001b[0m\u001b[0;34m\u001b[0m\u001b[0;34m\u001b[0m\u001b[0m\n\u001b[1;32m    194\u001b[0m                 \u001b[0mbatch_logs\u001b[0m\u001b[0;34m[\u001b[0m\u001b[0;34m'size'\u001b[0m\u001b[0;34m]\u001b[0m \u001b[0;34m=\u001b[0m \u001b[0mlen\u001b[0m\u001b[0;34m(\u001b[0m\u001b[0mbatch_ids\u001b[0m\u001b[0;34m)\u001b[0m\u001b[0;34m\u001b[0m\u001b[0;34m\u001b[0m\u001b[0m\n\u001b[0;32m--> 195\u001b[0;31m                 \u001b[0mcallbacks\u001b[0m\u001b[0;34m.\u001b[0m\u001b[0mon_batch_begin\u001b[0m\u001b[0;34m(\u001b[0m\u001b[0mbatch_index\u001b[0m\u001b[0;34m,\u001b[0m \u001b[0mbatch_logs\u001b[0m\u001b[0;34m)\u001b[0m\u001b[0;34m\u001b[0m\u001b[0;34m\u001b[0m\u001b[0m\n\u001b[0m\u001b[1;32m    196\u001b[0m                 \u001b[0;32mfor\u001b[0m \u001b[0mi\u001b[0m \u001b[0;32min\u001b[0m \u001b[0mindices_for_conversion_to_dense\u001b[0m\u001b[0;34m:\u001b[0m\u001b[0;34m\u001b[0m\u001b[0;34m\u001b[0m\u001b[0m\n\u001b[1;32m    197\u001b[0m                     \u001b[0mins_batch\u001b[0m\u001b[0;34m[\u001b[0m\u001b[0mi\u001b[0m\u001b[0;34m]\u001b[0m \u001b[0;34m=\u001b[0m \u001b[0mins_batch\u001b[0m\u001b[0;34m[\u001b[0m\u001b[0mi\u001b[0m\u001b[0;34m]\u001b[0m\u001b[0;34m.\u001b[0m\u001b[0mtoarray\u001b[0m\u001b[0;34m(\u001b[0m\u001b[0;34m)\u001b[0m\u001b[0;34m\u001b[0m\u001b[0;34m\u001b[0m\u001b[0m\n",
      "\u001b[0;32m/usr/local/lib/python3.7/site-packages/keras/callbacks.py\u001b[0m in \u001b[0;36mon_batch_begin\u001b[0;34m(self, batch, logs)\u001b[0m\n\u001b[1;32m     89\u001b[0m         \u001b[0mt_before_callbacks\u001b[0m \u001b[0;34m=\u001b[0m \u001b[0mtime\u001b[0m\u001b[0;34m.\u001b[0m\u001b[0mtime\u001b[0m\u001b[0;34m(\u001b[0m\u001b[0;34m)\u001b[0m\u001b[0;34m\u001b[0m\u001b[0;34m\u001b[0m\u001b[0m\n\u001b[1;32m     90\u001b[0m         \u001b[0;32mfor\u001b[0m \u001b[0mcallback\u001b[0m \u001b[0;32min\u001b[0m \u001b[0mself\u001b[0m\u001b[0;34m.\u001b[0m\u001b[0mcallbacks\u001b[0m\u001b[0;34m:\u001b[0m\u001b[0;34m\u001b[0m\u001b[0;34m\u001b[0m\u001b[0m\n\u001b[0;32m---> 91\u001b[0;31m             \u001b[0mcallback\u001b[0m\u001b[0;34m.\u001b[0m\u001b[0mon_batch_begin\u001b[0m\u001b[0;34m(\u001b[0m\u001b[0mbatch\u001b[0m\u001b[0;34m,\u001b[0m \u001b[0mlogs\u001b[0m\u001b[0;34m)\u001b[0m\u001b[0;34m\u001b[0m\u001b[0;34m\u001b[0m\u001b[0m\n\u001b[0m\u001b[1;32m     92\u001b[0m         \u001b[0mself\u001b[0m\u001b[0;34m.\u001b[0m\u001b[0m_delta_ts_batch_begin\u001b[0m\u001b[0;34m.\u001b[0m\u001b[0mappend\u001b[0m\u001b[0;34m(\u001b[0m\u001b[0mtime\u001b[0m\u001b[0;34m.\u001b[0m\u001b[0mtime\u001b[0m\u001b[0;34m(\u001b[0m\u001b[0;34m)\u001b[0m \u001b[0;34m-\u001b[0m \u001b[0mt_before_callbacks\u001b[0m\u001b[0;34m)\u001b[0m\u001b[0;34m\u001b[0m\u001b[0;34m\u001b[0m\u001b[0m\n\u001b[1;32m     93\u001b[0m         \u001b[0mdelta_t_median\u001b[0m \u001b[0;34m=\u001b[0m \u001b[0mnp\u001b[0m\u001b[0;34m.\u001b[0m\u001b[0mmedian\u001b[0m\u001b[0;34m(\u001b[0m\u001b[0mself\u001b[0m\u001b[0;34m.\u001b[0m\u001b[0m_delta_ts_batch_begin\u001b[0m\u001b[0;34m)\u001b[0m\u001b[0;34m\u001b[0m\u001b[0;34m\u001b[0m\u001b[0m\n",
      "\u001b[0;31mKeyboardInterrupt\u001b[0m: "
     ]
    }
   ],
   "source": [
    "model.fit(X_train, y_train, batch_size=2048, epochs=300, verbose=1)"
   ]
  },
  {
   "cell_type": "code",
   "execution_count": 59,
   "metadata": {
    "ExecuteTime": {
     "end_time": "2019-06-11T06:00:44.391615Z",
     "start_time": "2019-06-11T06:00:44.383142Z"
    }
   },
   "outputs": [],
   "source": [
    "X_sample=pd.read_csv('sample.csv')"
   ]
  },
  {
   "cell_type": "code",
   "execution_count": 62,
   "metadata": {
    "ExecuteTime": {
     "end_time": "2019-06-11T06:01:03.591512Z",
     "start_time": "2019-06-11T06:01:03.587747Z"
    }
   },
   "outputs": [],
   "source": [
    "y_sample=pd.DataFrame(data=[840, 99], columns=['price'])"
   ]
  },
  {
   "cell_type": "code",
   "execution_count": 65,
   "metadata": {
    "ExecuteTime": {
     "end_time": "2019-06-11T06:01:19.513943Z",
     "start_time": "2019-06-11T06:01:19.507833Z"
    }
   },
   "outputs": [
    {
     "data": {
      "text/html": [
       "<div>\n",
       "<style scoped>\n",
       "    .dataframe tbody tr th:only-of-type {\n",
       "        vertical-align: middle;\n",
       "    }\n",
       "\n",
       "    .dataframe tbody tr th {\n",
       "        vertical-align: top;\n",
       "    }\n",
       "\n",
       "    .dataframe thead th {\n",
       "        text-align: right;\n",
       "    }\n",
       "</style>\n",
       "<table border=\"1\" class=\"dataframe\">\n",
       "  <thead>\n",
       "    <tr style=\"text-align: right;\">\n",
       "      <th></th>\n",
       "      <th>price</th>\n",
       "    </tr>\n",
       "  </thead>\n",
       "  <tbody>\n",
       "    <tr>\n",
       "      <th>0</th>\n",
       "      <td>840</td>\n",
       "    </tr>\n",
       "    <tr>\n",
       "      <th>1</th>\n",
       "      <td>99</td>\n",
       "    </tr>\n",
       "  </tbody>\n",
       "</table>\n",
       "</div>"
      ],
      "text/plain": [
       "   price\n",
       "0    840\n",
       "1     99"
      ]
     },
     "execution_count": 65,
     "metadata": {},
     "output_type": "execute_result"
    }
   ],
   "source": [
    "y_sample.head(2)"
   ]
  },
  {
   "cell_type": "code",
   "execution_count": 66,
   "metadata": {
    "ExecuteTime": {
     "end_time": "2019-06-11T06:01:22.596800Z",
     "start_time": "2019-06-11T06:01:22.589583Z"
    }
   },
   "outputs": [
    {
     "name": "stdout",
     "output_type": "stream",
     "text": [
      "        price\n",
      "0  404.407928\n",
      "1    4.197006\n"
     ]
    }
   ],
   "source": [
    "sy_pred=model.predict(X_sample)\n",
    "print(y_sample-sy_pred)"
   ]
  },
  {
   "cell_type": "code",
   "execution_count": 53,
   "metadata": {
    "ExecuteTime": {
     "end_time": "2019-06-11T05:58:04.402542Z",
     "start_time": "2019-06-11T05:58:04.086368Z"
    },
    "scrolled": true
   },
   "outputs": [
    {
     "name": "stdout",
     "output_type": "stream",
     "text": [
      "121377     80\n",
      "89345      51\n",
      "225145     99\n",
      "28080      40\n",
      "230205     83\n",
      "186282    144\n",
      "1765       30\n",
      "129214     33\n",
      "156370     40\n",
      "262431     65\n",
      "56145      23\n",
      "124653     41\n",
      "255602     53\n",
      "237845     54\n",
      "129919     40\n",
      "45226      14\n",
      "114297     89\n",
      "195543    175\n",
      "242570     81\n",
      "176175     70\n",
      "236142     66\n",
      "149569     59\n",
      "135890     44\n",
      "234672     66\n",
      "42847      32\n",
      "245101     29\n",
      "244110     91\n",
      "259113     38\n",
      "115827     39\n",
      "221326    115\n",
      "         ... \n",
      "146020    107\n",
      "153236     18\n",
      "247709     37\n",
      "19725      65\n",
      "28083      32\n",
      "117791     55\n",
      "81283      39\n",
      "132435     49\n",
      "247161     62\n",
      "57525      83\n",
      "65169      42\n",
      "227406     36\n",
      "253588     73\n",
      "187279     82\n",
      "30843      49\n",
      "149194     35\n",
      "266902     39\n",
      "89219      16\n",
      "264626     44\n",
      "181792     34\n",
      "46777      41\n",
      "86344      38\n",
      "36778      65\n",
      "32413      84\n",
      "241920     89\n",
      "130806     50\n",
      "105248     38\n",
      "125721     31\n",
      "259306     38\n",
      "236637     55\n",
      "Name: price, Length: 54768, dtype: int64\n"
     ]
    }
   ],
   "source": [
    "ty_pred=model.predict(X_test)\n",
    "print(y_test)\n",
    "#resi=y_test-ty_pred\n",
    "#print(resi)\n",
    "#resi.to_csv('resi.csv')"
   ]
  },
  {
   "cell_type": "code",
   "execution_count": 54,
   "metadata": {
    "ExecuteTime": {
     "end_time": "2019-06-11T05:58:18.483612Z",
     "start_time": "2019-06-11T05:58:18.480069Z"
    }
   },
   "outputs": [
    {
     "name": "stdout",
     "output_type": "stream",
     "text": [
      "[[61.222546]\n",
      " [47.34512 ]\n",
      " [94.803   ]\n",
      " ...\n",
      " [40.293453]\n",
      " [33.07352 ]\n",
      " [59.47951 ]]\n"
     ]
    }
   ],
   "source": [
    "print(ty_pred)"
   ]
  },
  {
   "cell_type": "code",
   "execution_count": 58,
   "metadata": {
    "ExecuteTime": {
     "end_time": "2019-06-11T05:59:59.746943Z",
     "start_time": "2019-06-11T05:59:59.732122Z"
    }
   },
   "outputs": [
    {
     "data": {
      "text/html": [
       "<div>\n",
       "<style scoped>\n",
       "    .dataframe tbody tr th:only-of-type {\n",
       "        vertical-align: middle;\n",
       "    }\n",
       "\n",
       "    .dataframe tbody tr th {\n",
       "        vertical-align: top;\n",
       "    }\n",
       "\n",
       "    .dataframe thead th {\n",
       "        text-align: right;\n",
       "    }\n",
       "</style>\n",
       "<table border=\"1\" class=\"dataframe\">\n",
       "  <thead>\n",
       "    <tr style=\"text-align: right;\">\n",
       "      <th></th>\n",
       "      <th>전용면적(㎡)</th>\n",
       "      <th>층</th>\n",
       "      <th>랜드마크</th>\n",
       "      <th>영화관</th>\n",
       "      <th>쇼핑센터</th>\n",
       "      <th>대형마트</th>\n",
       "      <th>백화점</th>\n",
       "      <th>지하철</th>\n",
       "      <th>차선수</th>\n",
       "      <th>순환도로</th>\n",
       "      <th>한강</th>\n",
       "      <th>공원</th>\n",
       "      <th>산</th>\n",
       "      <th>학교</th>\n",
       "      <th>교육특구</th>\n",
       "      <th>대학병원</th>\n",
       "      <th>나이</th>\n",
       "    </tr>\n",
       "  </thead>\n",
       "  <tbody>\n",
       "    <tr>\n",
       "      <th>121377</th>\n",
       "      <td>119.47</td>\n",
       "      <td>9</td>\n",
       "      <td>0.0</td>\n",
       "      <td>0.0</td>\n",
       "      <td>0.0</td>\n",
       "      <td>1.0</td>\n",
       "      <td>0.0</td>\n",
       "      <td>1.0</td>\n",
       "      <td>10.0</td>\n",
       "      <td>0.0</td>\n",
       "      <td>0.0</td>\n",
       "      <td>1.0</td>\n",
       "      <td>0.0</td>\n",
       "      <td>3.0</td>\n",
       "      <td>0.0</td>\n",
       "      <td>0.0</td>\n",
       "      <td>14</td>\n",
       "    </tr>\n",
       "    <tr>\n",
       "      <th>89345</th>\n",
       "      <td>84.87</td>\n",
       "      <td>11</td>\n",
       "      <td>0.0</td>\n",
       "      <td>0.2</td>\n",
       "      <td>2.0</td>\n",
       "      <td>1.0</td>\n",
       "      <td>0.0</td>\n",
       "      <td>2.6</td>\n",
       "      <td>7.6</td>\n",
       "      <td>0.4</td>\n",
       "      <td>0.0</td>\n",
       "      <td>0.8</td>\n",
       "      <td>0.0</td>\n",
       "      <td>2.6</td>\n",
       "      <td>0.0</td>\n",
       "      <td>0.2</td>\n",
       "      <td>32</td>\n",
       "    </tr>\n",
       "    <tr>\n",
       "      <th>225145</th>\n",
       "      <td>84.79</td>\n",
       "      <td>30</td>\n",
       "      <td>2.5</td>\n",
       "      <td>0.5</td>\n",
       "      <td>0.5</td>\n",
       "      <td>0.5</td>\n",
       "      <td>0.5</td>\n",
       "      <td>2.0</td>\n",
       "      <td>10.0</td>\n",
       "      <td>1.0</td>\n",
       "      <td>2.0</td>\n",
       "      <td>1.5</td>\n",
       "      <td>0.0</td>\n",
       "      <td>1.5</td>\n",
       "      <td>0.0</td>\n",
       "      <td>0.0</td>\n",
       "      <td>8</td>\n",
       "    </tr>\n",
       "  </tbody>\n",
       "</table>\n",
       "</div>"
      ],
      "text/plain": [
       "        전용면적(㎡)   층  랜드마크  영화관  쇼핑센터  대형마트  백화점  지하철   차선수  순환도로   한강   공원  \\\n",
       "121377   119.47   9   0.0  0.0   0.0   1.0  0.0  1.0  10.0   0.0  0.0  1.0   \n",
       "89345     84.87  11   0.0  0.2   2.0   1.0  0.0  2.6   7.6   0.4  0.0  0.8   \n",
       "225145    84.79  30   2.5  0.5   0.5   0.5  0.5  2.0  10.0   1.0  2.0  1.5   \n",
       "\n",
       "          산   학교  교육특구  대학병원  나이  \n",
       "121377  0.0  3.0   0.0   0.0  14  \n",
       "89345   0.0  2.6   0.0   0.2  32  \n",
       "225145  0.0  1.5   0.0   0.0   8  "
      ]
     },
     "execution_count": 58,
     "metadata": {},
     "output_type": "execute_result"
    }
   ],
   "source": [
    "X_test.head(3)"
   ]
  },
  {
   "cell_type": "code",
   "execution_count": 15,
   "metadata": {
    "ExecuteTime": {
     "end_time": "2019-06-07T11:42:53.708905Z",
     "start_time": "2019-06-07T11:42:53.442479Z"
    }
   },
   "outputs": [],
   "source": [
    "dataY_predict = model.predict(X_test)"
   ]
  },
  {
   "cell_type": "code",
   "execution_count": 29,
   "metadata": {
    "ExecuteTime": {
     "end_time": "2019-06-07T11:47:43.414777Z",
     "start_time": "2019-06-07T11:47:43.411813Z"
    }
   },
   "outputs": [],
   "source": [
    "labels = dataY_predict.astype(int)"
   ]
  },
  {
   "cell_type": "code",
   "execution_count": 35,
   "metadata": {
    "ExecuteTime": {
     "end_time": "2019-06-07T11:48:46.598482Z",
     "start_time": "2019-06-07T11:48:46.593026Z"
    }
   },
   "outputs": [],
   "source": [
    "df = pd.DataFrame(dataY_predict.astype(int))\n",
    "df = df.drop_duplicates()"
   ]
  },
  {
   "cell_type": "code",
   "execution_count": 41,
   "metadata": {
    "ExecuteTime": {
     "end_time": "2019-06-07T11:51:13.767322Z",
     "start_time": "2019-06-07T11:51:13.758139Z"
    }
   },
   "outputs": [],
   "source": [
    "df2 = y_test.drop_duplicates()\n",
    "df.append(df2)\n",
    "df2=df2.drop_duplicates()"
   ]
  },
  {
   "cell_type": "code",
   "execution_count": 43,
   "metadata": {
    "ExecuteTime": {
     "end_time": "2019-06-07T11:51:48.782203Z",
     "start_time": "2019-06-07T11:51:48.779407Z"
    }
   },
   "outputs": [],
   "source": [
    "labels = np.array(df2)"
   ]
  },
  {
   "cell_type": "code",
   "execution_count": 44,
   "metadata": {
    "ExecuteTime": {
     "end_time": "2019-06-07T11:51:51.405918Z",
     "start_time": "2019-06-07T11:51:51.341511Z"
    },
    "scrolled": false
   },
   "outputs": [
    {
     "name": "stdout",
     "output_type": "stream",
     "text": [
      "11.429209335337374\n",
      "379.48138627846043\n",
      "[[10  1  3 ...  0  0  0]\n",
      " [ 5 34  0 ...  0  0  0]\n",
      " [ 2  0 10 ...  0  0  0]\n",
      " ...\n",
      " [ 0  0  0 ...  0  0  0]\n",
      " [ 0  0  0 ...  0  0  0]\n",
      " [ 0  0  0 ...  0  0  0]]\n"
     ]
    }
   ],
   "source": [
    "import sklearn.metrics as sm\n",
    "print(sm.mean_absolute_error(dataY_predict,y_test))\n",
    "print(sm.mean_squared_error(dataY_predict,y_test))\n",
    "print(sm.confusion_matrix(y_test, dataY_predict.astype(int),labels=labels))"
   ]
  },
  {
   "cell_type": "code",
   "execution_count": 16,
   "metadata": {
    "ExecuteTime": {
     "end_time": "2019-06-11T08:41:01.234542Z",
     "start_time": "2019-06-11T08:41:01.176537Z"
    }
   },
   "outputs": [],
   "source": [
    "from sklearn.metrics import confusion_matrix\n",
    "import seaborn as sns\n",
    "import matplotlib.pyplot as plt\n",
    "import matplotlib.font_manager as fm\n",
    "from sklearn.utils.multiclass import unique_labels\n",
    "\n",
    "font_path = '/Library/Fonts/NanumBarunGothic.otf'\n",
    "font_name=fm.FontProperties(fname=font_path, size=12).get_name()\n",
    "plt.rc('font', family=font_name)\n",
    "\n",
    "\n",
    "\n",
    "%matplotlib inline"
   ]
  },
  {
   "cell_type": "code",
   "execution_count": 17,
   "metadata": {
    "ExecuteTime": {
     "end_time": "2019-06-11T08:41:12.375196Z",
     "start_time": "2019-06-11T08:41:12.320731Z"
    }
   },
   "outputs": [],
   "source": [
    "from sklearn.ensemble import RandomForestClassifier"
   ]
  },
  {
   "cell_type": "code",
   "execution_count": 18,
   "metadata": {
    "ExecuteTime": {
     "end_time": "2019-06-11T08:41:12.598155Z",
     "start_time": "2019-06-11T08:41:12.595915Z"
    }
   },
   "outputs": [],
   "source": [
    "from sklearn.metrics import accuracy_score\n",
    "from sklearn.metrics import confusion_matrix"
   ]
  },
  {
   "cell_type": "code",
   "execution_count": 19,
   "metadata": {
    "ExecuteTime": {
     "end_time": "2019-06-11T08:43:58.278544Z",
     "start_time": "2019-06-11T08:41:30.657447Z"
    }
   },
   "outputs": [
    {
     "name": "stdout",
     "output_type": "stream",
     "text": [
      "Out-of-bag score estimate: 0.134\n",
      "Mean accuracy score: 0.136\n",
      "특성: Index(['전용면적(㎡)', '층', '랜드마크', '영화관', '쇼핑센터', '대형마트', '백화점', '지하철', '차선수',\n",
      "       '순환도로', '한강', '공원', '산', '학교', '교육특구', '대학병원', '나이'],\n",
      "      dtype='object')\n",
      "특성 중요도:\n",
      "[0.3018715  0.26344651 0.00695897 0.00637745 0.0142541  0.00969505\n",
      " 0.00547708 0.02206651 0.0206721  0.00921392 0.01834082 0.01570858\n",
      " 0.00805679 0.0180389  0.01160116 0.00550622 0.26271433]\n"
     ]
    }
   ],
   "source": [
    "\n",
    "#X_train, X_test, y_train, y_test = train_test_split(X, y, test_size = 0.2, random_state = 42)\n",
    "seoul_rf = RandomForestClassifier(n_estimators=50, criterion='entropy', oob_score = True, random_state=123456)\n",
    "seoul_rf.fit(X_train, y_train)\n",
    "\n",
    "predicted = seoul_rf.predict(X_test)\n",
    "accuracy = accuracy_score(y_test, predicted)\n",
    "\n",
    "print(f'Out-of-bag score estimate: {seoul_rf.oob_score_:.3}')\n",
    "print(f'Mean accuracy score: {accuracy:.3}')\n",
    "\n",
    "print(\"특성:\", X_train.columns)\n",
    "print(\"특성 중요도:\\n{}\".format(seoul_rf.feature_importances_))\n"
   ]
  },
  {
   "cell_type": "code",
   "execution_count": 19,
   "metadata": {
    "ExecuteTime": {
     "end_time": "2019-06-07T01:50:49.518454Z",
     "start_time": "2019-06-07T01:50:49.455986Z"
    }
   },
   "outputs": [],
   "source": [
    "import xgboost as xgb\n"
   ]
  },
  {
   "cell_type": "code",
   "execution_count": 21,
   "metadata": {
    "ExecuteTime": {
     "end_time": "2019-06-07T02:00:29.589467Z",
     "start_time": "2019-06-07T01:53:16.952141Z"
    },
    "collapsed": true
   },
   "outputs": [
    {
     "ename": "KeyboardInterrupt",
     "evalue": "",
     "output_type": "error",
     "traceback": [
      "\u001b[0;31m---------------------------------------------------------------------------\u001b[0m",
      "\u001b[0;31mKeyboardInterrupt\u001b[0m                         Traceback (most recent call last)",
      "\u001b[0;32m<ipython-input-21-57715b23c644>\u001b[0m in \u001b[0;36m<module>\u001b[0;34m\u001b[0m\n\u001b[1;32m      4\u001b[0m                               \u001b[0mgamma\u001b[0m\u001b[0;34m=\u001b[0m\u001b[0;36m0.1\u001b[0m\u001b[0;34m,\u001b[0m\u001b[0;34m\u001b[0m\u001b[0;34m\u001b[0m\u001b[0m\n\u001b[1;32m      5\u001b[0m                               booster='gbtree')\n\u001b[0;32m----> 6\u001b[0;31m \u001b[0mseoul_xgb\u001b[0m\u001b[0;34m.\u001b[0m\u001b[0mfit\u001b[0m\u001b[0;34m(\u001b[0m\u001b[0mX_train\u001b[0m\u001b[0;34m,\u001b[0m \u001b[0my_train\u001b[0m\u001b[0;34m)\u001b[0m\u001b[0;34m\u001b[0m\u001b[0;34m\u001b[0m\u001b[0m\n\u001b[0m\u001b[1;32m      7\u001b[0m \u001b[0;31m#    y_pred = movie_xgb.predict(y_train)\u001b[0m\u001b[0;34m\u001b[0m\u001b[0;34m\u001b[0m\u001b[0;34m\u001b[0m\u001b[0m\n\u001b[1;32m      8\u001b[0m \u001b[0mprint\u001b[0m\u001b[0;34m(\u001b[0m\u001b[0;34m\"훈련 세트 정확도: {:.3f}\"\u001b[0m\u001b[0;34m.\u001b[0m\u001b[0mformat\u001b[0m\u001b[0;34m(\u001b[0m\u001b[0mseoul_xgb\u001b[0m\u001b[0;34m.\u001b[0m\u001b[0mscore\u001b[0m\u001b[0;34m(\u001b[0m\u001b[0mX_train\u001b[0m\u001b[0;34m,\u001b[0m \u001b[0my_train\u001b[0m\u001b[0;34m)\u001b[0m\u001b[0;34m)\u001b[0m\u001b[0;34m)\u001b[0m\u001b[0;34m\u001b[0m\u001b[0;34m\u001b[0m\u001b[0m\n",
      "\u001b[0;32m/usr/local/lib/python3.7/site-packages/xgboost/sklearn.py\u001b[0m in \u001b[0;36mfit\u001b[0;34m(self, X, y, sample_weight, eval_set, eval_metric, early_stopping_rounds, verbose, xgb_model, sample_weight_eval_set, callbacks)\u001b[0m\n\u001b[1;32m    730\u001b[0m                               \u001b[0mevals_result\u001b[0m\u001b[0;34m=\u001b[0m\u001b[0mevals_result\u001b[0m\u001b[0;34m,\u001b[0m \u001b[0mobj\u001b[0m\u001b[0;34m=\u001b[0m\u001b[0mobj\u001b[0m\u001b[0;34m,\u001b[0m \u001b[0mfeval\u001b[0m\u001b[0;34m=\u001b[0m\u001b[0mfeval\u001b[0m\u001b[0;34m,\u001b[0m\u001b[0;34m\u001b[0m\u001b[0;34m\u001b[0m\u001b[0m\n\u001b[1;32m    731\u001b[0m                               \u001b[0mverbose_eval\u001b[0m\u001b[0;34m=\u001b[0m\u001b[0mverbose\u001b[0m\u001b[0;34m,\u001b[0m \u001b[0mxgb_model\u001b[0m\u001b[0;34m=\u001b[0m\u001b[0mxgb_model\u001b[0m\u001b[0;34m,\u001b[0m\u001b[0;34m\u001b[0m\u001b[0;34m\u001b[0m\u001b[0m\n\u001b[0;32m--> 732\u001b[0;31m                               callbacks=callbacks)\n\u001b[0m\u001b[1;32m    733\u001b[0m \u001b[0;34m\u001b[0m\u001b[0m\n\u001b[1;32m    734\u001b[0m         \u001b[0mself\u001b[0m\u001b[0;34m.\u001b[0m\u001b[0mobjective\u001b[0m \u001b[0;34m=\u001b[0m \u001b[0mxgb_options\u001b[0m\u001b[0;34m[\u001b[0m\u001b[0;34m\"objective\"\u001b[0m\u001b[0;34m]\u001b[0m\u001b[0;34m\u001b[0m\u001b[0;34m\u001b[0m\u001b[0m\n",
      "\u001b[0;32m/usr/local/lib/python3.7/site-packages/xgboost/training.py\u001b[0m in \u001b[0;36mtrain\u001b[0;34m(params, dtrain, num_boost_round, evals, obj, feval, maximize, early_stopping_rounds, evals_result, verbose_eval, xgb_model, callbacks, learning_rates)\u001b[0m\n\u001b[1;32m    214\u001b[0m                            \u001b[0mevals\u001b[0m\u001b[0;34m=\u001b[0m\u001b[0mevals\u001b[0m\u001b[0;34m,\u001b[0m\u001b[0;34m\u001b[0m\u001b[0;34m\u001b[0m\u001b[0m\n\u001b[1;32m    215\u001b[0m                            \u001b[0mobj\u001b[0m\u001b[0;34m=\u001b[0m\u001b[0mobj\u001b[0m\u001b[0;34m,\u001b[0m \u001b[0mfeval\u001b[0m\u001b[0;34m=\u001b[0m\u001b[0mfeval\u001b[0m\u001b[0;34m,\u001b[0m\u001b[0;34m\u001b[0m\u001b[0;34m\u001b[0m\u001b[0m\n\u001b[0;32m--> 216\u001b[0;31m                            xgb_model=xgb_model, callbacks=callbacks)\n\u001b[0m\u001b[1;32m    217\u001b[0m \u001b[0;34m\u001b[0m\u001b[0m\n\u001b[1;32m    218\u001b[0m \u001b[0;34m\u001b[0m\u001b[0m\n",
      "\u001b[0;32m/usr/local/lib/python3.7/site-packages/xgboost/training.py\u001b[0m in \u001b[0;36m_train_internal\u001b[0;34m(params, dtrain, num_boost_round, evals, obj, feval, xgb_model, callbacks)\u001b[0m\n\u001b[1;32m     72\u001b[0m         \u001b[0;31m# Skip the first update if it is a recovery step.\u001b[0m\u001b[0;34m\u001b[0m\u001b[0;34m\u001b[0m\u001b[0;34m\u001b[0m\u001b[0m\n\u001b[1;32m     73\u001b[0m         \u001b[0;32mif\u001b[0m \u001b[0mversion\u001b[0m \u001b[0;34m%\u001b[0m \u001b[0;36m2\u001b[0m \u001b[0;34m==\u001b[0m \u001b[0;36m0\u001b[0m\u001b[0;34m:\u001b[0m\u001b[0;34m\u001b[0m\u001b[0;34m\u001b[0m\u001b[0m\n\u001b[0;32m---> 74\u001b[0;31m             \u001b[0mbst\u001b[0m\u001b[0;34m.\u001b[0m\u001b[0mupdate\u001b[0m\u001b[0;34m(\u001b[0m\u001b[0mdtrain\u001b[0m\u001b[0;34m,\u001b[0m \u001b[0mi\u001b[0m\u001b[0;34m,\u001b[0m \u001b[0mobj\u001b[0m\u001b[0;34m)\u001b[0m\u001b[0;34m\u001b[0m\u001b[0;34m\u001b[0m\u001b[0m\n\u001b[0m\u001b[1;32m     75\u001b[0m             \u001b[0mbst\u001b[0m\u001b[0;34m.\u001b[0m\u001b[0msave_rabit_checkpoint\u001b[0m\u001b[0;34m(\u001b[0m\u001b[0;34m)\u001b[0m\u001b[0;34m\u001b[0m\u001b[0;34m\u001b[0m\u001b[0m\n\u001b[1;32m     76\u001b[0m             \u001b[0mversion\u001b[0m \u001b[0;34m+=\u001b[0m \u001b[0;36m1\u001b[0m\u001b[0;34m\u001b[0m\u001b[0;34m\u001b[0m\u001b[0m\n",
      "\u001b[0;32m/usr/local/lib/python3.7/site-packages/xgboost/core.py\u001b[0m in \u001b[0;36mupdate\u001b[0;34m(self, dtrain, iteration, fobj)\u001b[0m\n\u001b[1;32m   1107\u001b[0m         \u001b[0;32mif\u001b[0m \u001b[0mfobj\u001b[0m \u001b[0;32mis\u001b[0m \u001b[0;32mNone\u001b[0m\u001b[0;34m:\u001b[0m\u001b[0;34m\u001b[0m\u001b[0;34m\u001b[0m\u001b[0m\n\u001b[1;32m   1108\u001b[0m             _check_call(_LIB.XGBoosterUpdateOneIter(self.handle, ctypes.c_int(iteration),\n\u001b[0;32m-> 1109\u001b[0;31m                                                     dtrain.handle))\n\u001b[0m\u001b[1;32m   1110\u001b[0m         \u001b[0;32melse\u001b[0m\u001b[0;34m:\u001b[0m\u001b[0;34m\u001b[0m\u001b[0;34m\u001b[0m\u001b[0m\n\u001b[1;32m   1111\u001b[0m             \u001b[0mpred\u001b[0m \u001b[0;34m=\u001b[0m \u001b[0mself\u001b[0m\u001b[0;34m.\u001b[0m\u001b[0mpredict\u001b[0m\u001b[0;34m(\u001b[0m\u001b[0mdtrain\u001b[0m\u001b[0;34m)\u001b[0m\u001b[0;34m\u001b[0m\u001b[0;34m\u001b[0m\u001b[0m\n",
      "\u001b[0;31mKeyboardInterrupt\u001b[0m: "
     ]
    }
   ],
   "source": [
    "seoul_xgb = xgb.XGBClassifier(max_depth=3,\n",
    "                              learning_rate=0.02,\n",
    "                              n_estimators=30,\n",
    "                              gamma=0.1,\n",
    "                              booster='gbtree')\n",
    "seoul_xgb.fit(X_train, y_train)\n",
    "#    y_pred = movie_xgb.predict(y_train)\n",
    "print(\"훈련 세트 정확도: {:.3f}\".format(seoul_xgb.score(X_train, y_train)))\n",
    "# y_pred = movie_xgb.predict(y_test)\n",
    "print(\"테스트 세트 정확도: {:.3f}\".format(seoul_xgb.score(X_test, y_test)))"
   ]
  },
  {
   "cell_type": "code",
   "execution_count": null,
   "metadata": {},
   "outputs": [],
   "source": []
  }
 ],
 "metadata": {
  "hide_input": false,
  "kernelspec": {
   "display_name": "Python 3",
   "language": "python",
   "name": "python3"
  },
  "language_info": {
   "codemirror_mode": {
    "name": "ipython",
    "version": 3
   },
   "file_extension": ".py",
   "mimetype": "text/x-python",
   "name": "python",
   "nbconvert_exporter": "python",
   "pygments_lexer": "ipython3",
   "version": "3.7.3"
  },
  "toc": {
   "base_numbering": 1,
   "nav_menu": {},
   "number_sections": true,
   "sideBar": true,
   "skip_h1_title": false,
   "title_cell": "Table of Contents",
   "title_sidebar": "Contents",
   "toc_cell": false,
   "toc_position": {},
   "toc_section_display": true,
   "toc_window_display": false
  },
  "varInspector": {
   "cols": {
    "lenName": 16,
    "lenType": 16,
    "lenVar": 40
   },
   "kernels_config": {
    "python": {
     "delete_cmd_postfix": "",
     "delete_cmd_prefix": "del ",
     "library": "var_list.py",
     "varRefreshCmd": "print(var_dic_list())"
    },
    "r": {
     "delete_cmd_postfix": ") ",
     "delete_cmd_prefix": "rm(",
     "library": "var_list.r",
     "varRefreshCmd": "cat(var_dic_list()) "
    }
   },
   "types_to_exclude": [
    "module",
    "function",
    "builtin_function_or_method",
    "instance",
    "_Feature"
   ],
   "window_display": false
  }
 },
 "nbformat": 4,
 "nbformat_minor": 2
}
